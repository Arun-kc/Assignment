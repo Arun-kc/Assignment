{
  "nbformat": 4,
  "nbformat_minor": 0,
  "metadata": {
    "colab": {
      "provenance": [],
      "authorship_tag": "ABX9TyPNmYHg4Yya6dEPp/IIVwGT",
      "include_colab_link": true
    },
    "kernelspec": {
      "name": "python3",
      "display_name": "Python 3"
    },
    "language_info": {
      "name": "python"
    }
  },
  "cells": [
    {
      "cell_type": "markdown",
      "metadata": {
        "id": "view-in-github",
        "colab_type": "text"
      },
      "source": [
        "<a href=\"https://colab.research.google.com/github/Arun-kc/Assignment/blob/main/assignment.ipynb\" target=\"_parent\"><img src=\"https://colab.research.google.com/assets/colab-badge.svg\" alt=\"Open In Colab\"/></a>"
      ]
    },
    {
      "cell_type": "markdown",
      "source": [
        "## Prerequisite"
      ],
      "metadata": {
        "id": "3PpF7jWGa1f9"
      }
    },
    {
      "cell_type": "markdown",
      "source": [
        "### Install Pyspark"
      ],
      "metadata": {
        "id": "Rq6Gdn8gZ2rn"
      }
    },
    {
      "cell_type": "code",
      "execution_count": 4,
      "metadata": {
        "colab": {
          "base_uri": "https://localhost:8080/"
        },
        "id": "LO93Jf8nZol4",
        "outputId": "f7ccde91-a719-4e6c-e6fd-1af48da47541"
      },
      "outputs": [
        {
          "output_type": "stream",
          "name": "stdout",
          "text": [
            "Requirement already satisfied: pyspark in /usr/local/lib/python3.10/dist-packages (3.5.0)\n",
            "Requirement already satisfied: py4j==0.10.9.7 in /usr/local/lib/python3.10/dist-packages (from pyspark) (0.10.9.7)\n"
          ]
        }
      ],
      "source": [
        "!pip install pyspark"
      ]
    },
    {
      "cell_type": "markdown",
      "source": [
        "Connecting with google driver"
      ],
      "metadata": {
        "id": "yaYF2gaWZ9p6"
      }
    },
    {
      "cell_type": "code",
      "source": [
        "from google.colab import drive\n",
        "drive.mount('/content/drive')"
      ],
      "metadata": {
        "colab": {
          "base_uri": "https://localhost:8080/"
        },
        "id": "qiYuYCXrcGx8",
        "outputId": "480e4030-2afd-4ee6-ddc3-7b4cf7c3a9bc"
      },
      "execution_count": 5,
      "outputs": [
        {
          "output_type": "stream",
          "name": "stdout",
          "text": [
            "Mounted at /content/drive\n"
          ]
        }
      ]
    },
    {
      "cell_type": "code",
      "source": [
        "from pyspark.sql import SparkSession"
      ],
      "metadata": {
        "id": "qW3zEzSjcajP"
      },
      "execution_count": 6,
      "outputs": []
    },
    {
      "cell_type": "code",
      "source": [
        "spark = SparkSession.builder.appName('spark_app').getOrCreate()"
      ],
      "metadata": {
        "id": "LVtZnbtRcdMt"
      },
      "execution_count": 7,
      "outputs": []
    },
    {
      "cell_type": "markdown",
      "source": [
        "Upload the file `google-play-dataset-by-tapivedotcom.csv` in your Google Drive and give respective path in the `csv_path` variable"
      ],
      "metadata": {
        "id": "8hTciKCrbNki"
      }
    },
    {
      "cell_type": "code",
      "source": [
        "csv_path = '/content/drive/MyDrive/Colab Notebooks/SampleData/google-play-dataset-by-tapivedotcom.csv'\n",
        "df = spark.read.format('csv').option('inferSchema', True).option('header', True).load(csv_path)"
      ],
      "metadata": {
        "id": "HgVlbKolchEx"
      },
      "execution_count": 8,
      "outputs": []
    },
    {
      "cell_type": "markdown",
      "source": [
        "### Selecting required columns for the analysis"
      ],
      "metadata": {
        "id": "JPQFruh7OfXi"
      }
    },
    {
      "cell_type": "code",
      "source": [
        "cols = (\"developer\", \"developerId\", \"free\", \"genre\", \"inAppProductPrice\", \"minInstalls\", \"offersIAP\", \"price\", \"ratings\", \"len screenshots\", \"adSupported\", \"containsAds\", \"reviews\", \"sale\", \"score\", \"releasedYear\", \"releasedMonth\", \"minprice\", \"maxprice\"\n",
        ")\n",
        "df = df.select(*cols)\n",
        "df.show()"
      ],
      "metadata": {
        "colab": {
          "base_uri": "https://localhost:8080/"
        },
        "id": "IeBcIP_8ciGt",
        "outputId": "42a86e1d-055d-4bf5-a0c2-39739bd0c477"
      },
      "execution_count": 9,
      "outputs": [
        {
          "output_type": "stream",
          "name": "stdout",
          "text": [
            "+--------------------+--------------------+----+------------+-----------------+-----------+---------+-----+-------+---------------+-----------+-----------+-------+----+-----+------------+-------------+--------------+--------+\n",
            "|           developer|         developerId|free|       genre|inAppProductPrice|minInstalls|offersIAP|price|ratings|len screenshots|adSupported|containsAds|reviews|sale|score|releasedYear|releasedMonth|      minprice|maxprice|\n",
            "+--------------------+--------------------+----+------------+-----------------+-----------+---------+-----+-------+---------------+-----------+-----------+-------+----+-----+------------+-------------+--------------+--------+\n",
            "| Best theme workshop| 7398289236941441420|   1|Art & Design|             None|    1000000|        0|  0.0|  30650|              4|          1|          1|    152|   0| 4.75|        2014|          Sep|          None|     0.0|\n",
            "|Best Android Them...| 5762674363677973291|   1|Art & Design|             None|    1000000|        0|  0.0|  15150|             15|          1|          1|     62|   0| 4.52|        2014|          Nov|          None|     0.0|\n",
            "|         NAVEENKUMAR|         NAVEENKUMAR|   1|Art & Design|             None|     500000|        0|  0.0|   3312|              8|          1|          1|     59|   0| 3.61|        2013|          Dec|          None|     0.0|\n",
            "|         360 Fractal|         360+Fractal|   1|Art & Design|             None|      50000|        0|  0.0|    915|             12|          1|          1|     58|   0|  4.5|        2014|          Oct|          None|     0.0|\n",
            "|          MUSMon.com|          MUSMon.com|   0|Art & Design|             None|       1000|        0| 2.61|     38|             24|          0|          0|      5|   0|  4.0|        2013|          Oct|          None|     0.0|\n",
            "|   Wiedmann Media AG|   Wiedmann+Media+AG|   0|Art & Design|             None|        500|        0|  9.9|      0|             24|          0|          0|      0|   0|  0.0|        2015|          Jul|          None|     0.0|\n",
            "|        Fashion Club|        Fashion+Club|   1|Art & Design|             None|      10000|        0|  0.0|      0|             18|          1|          1|      0|   0|  0.0|        2016|          Mar|          None|     0.0|\n",
            "|  Make in India Apps|  Make+in+India+Apps|   1|Art & Design|             None|       1000|        0|  0.0|      0|              4|          1|          1|      0|   0|  0.0|        2016|          Aug|          None|     0.0|\n",
            "|     ShinChven Zhang|     ShinChven+Zhang|   1|Art & Design|             None|     100000|        0|  0.0|    629|              4|          1|          1|     78|   0| 3.94|        2016|          Aug|          None|     0.0|\n",
            "|             DrawAPP|             DrawAPP|   1|Art & Design|   $0.99 per item|    1000000|        1|  0.0|   6864|             24|          1|          1|    360|   0|  3.9|        2016|          Aug|$0.99 per item|    0.99|\n",
            "|+HOME by Ateam En...|%2BHOME+by+Ateam+...|   1|Art & Design|             None|      50000|        0|  0.0|    437|              5|          1|          1|      9|   0| 4.68|        2016|          Sep|          None|     0.0|\n",
            "|+HOME by Ateam En...|%2BHOME+by+Ateam+...|   1|Art & Design|             None|      10000|        0|  0.0|    177|              5|          1|          1|     10|   0| 4.83|        2016|          Oct|          None|     0.0|\n",
            "|           Inforotor|           Inforotor|   1|Art & Design|             None|       5000|        0|  0.0|      0|              6|          0|          0|      0|   0|  0.0|        2016|          Oct|          None|     0.0|\n",
            "|           Inforotor|           Inforotor|   1|Art & Design|             None|      10000|        0|  0.0|      0|              6|          0|          0|      0|   0|  0.0|        2016|          Oct|          None|     0.0|\n",
            "|       Appy Stations| 7832284125212021063|   1|Art & Design|             None|      50000|        0|  0.0|      0|              9|          1|          1|      0|   0|  0.0|        2016|          Oct|          None|     0.0|\n",
            "|            App Wala|            App+Wala|   1|Art & Design|             None|      10000|        0|  0.0|    140|             24|          1|          1|      9|   0| 4.13|        2017|          Jan|          None|     0.0|\n",
            "|          TRENDYBOYS|          TRENDYBOYS|   1|Art & Design|             None|       5000|        0|  0.0|      0|              4|          1|          1|      0|   0|  0.0|        2017|          Jan|          None|     0.0|\n",
            "|          Quantonium| 8348135796245627107|   1|Art & Design|             None|         50|        0|  0.0|      0|              3|          0|          0|      0|   0|  0.0|        2016|          Oct|          None|     0.0|\n",
            "|      Fivex Solution|      Fivex+Solution|   1|Art & Design|             None|      10000|        0|  0.0|      0|              8|          1|          1|      0|   0|  0.0|        2017|          Jan|          None|     0.0|\n",
            "|C&C - CarrionCast...| 8334369132015437980|   1|Art & Design|             None|      10000|        0|  0.0|      0|             12|          1|          1|      0|   0|  0.0|        2017|          Jan|          None|     0.0|\n",
            "+--------------------+--------------------+----+------------+-----------------+-----------+---------+-----+-------+---------------+-----------+-----------+-------+----+-----+------------+-------------+--------------+--------+\n",
            "only showing top 20 rows\n",
            "\n"
          ]
        }
      ]
    },
    {
      "cell_type": "markdown",
      "source": [
        "### Cleaning the data"
      ],
      "metadata": {
        "id": "-jkH34kpOobh"
      }
    },
    {
      "cell_type": "code",
      "source": [
        "from pyspark.sql.functions import col, regexp_replace\n",
        "from pyspark.sql.types import DoubleType, IntegerType\n",
        "\n",
        "# Assuming 'df' is the DataFrame containing the data\n",
        "\n",
        "# Clean 'price' column\n",
        "df = df.withColumn('price', regexp_replace('price', '[^\\d.]', ''))\n",
        "df = df.withColumn('price', col('price').cast(DoubleType()))\n",
        "\n",
        "# Clean 'minInstalls' column\n",
        "df = df.withColumn('minInstalls', regexp_replace('minInstalls', '[^\\d]', ''))\n",
        "df = df.withColumn('minInstalls', col('minInstalls').cast(IntegerType()))\n",
        "\n",
        "# Clean 'releasedYear' column\n",
        "# df = df.withColumn('releasedYear', regexp_replace('releasedYear', '[^\\d]', ''))\n",
        "df = df.withColumn('releasedYear', col('releasedYear').cast(IntegerType()))\n",
        "\n",
        "# Clean 'ratings' column\n",
        "df = df.withColumn('ratings', col('ratings').cast(DoubleType()))\n",
        "\n",
        "# Clean 'reviews' column\n",
        "df = df.withColumn('reviews', col('reviews').cast(IntegerType()))\n",
        "\n",
        "# Clean 'sale' column\n",
        "df = df.withColumn('sale', regexp_replace('sale', '[^\\d.]', ''))\n",
        "df = df.withColumn('sale', col('sale').cast(DoubleType()))\n",
        "\n",
        "# Clean 'score' column\n",
        "df = df.withColumn('score', col('score').cast(DoubleType()))\n",
        "\n",
        "# Renaming 'len screenshots' column\n",
        "df = df.withColumnRenamed(\"len screenshots\",\"len_screenshots\")\n",
        "\n",
        "# Drop rows with null or missing values in the specified columns\n",
        "columns_to_drop_na = ['price', 'minInstalls', 'releasedYear', 'ratings', 'reviews', 'sale', 'score']\n",
        "df = df.na.drop(subset=columns_to_drop_na)\n",
        "\n",
        "df.show()"
      ],
      "metadata": {
        "colab": {
          "base_uri": "https://localhost:8080/"
        },
        "id": "NME-Jz57Owy-",
        "outputId": "99eef035-a424-4d00-a928-a027e720d532"
      },
      "execution_count": 10,
      "outputs": [
        {
          "output_type": "stream",
          "name": "stdout",
          "text": [
            "+--------------------+--------------------+----+------------+-----------------+-----------+---------+-----+-------+---------------+-----------+-----------+-------+----+-----+------------+-------------+--------------+--------+\n",
            "|           developer|         developerId|free|       genre|inAppProductPrice|minInstalls|offersIAP|price|ratings|len_screenshots|adSupported|containsAds|reviews|sale|score|releasedYear|releasedMonth|      minprice|maxprice|\n",
            "+--------------------+--------------------+----+------------+-----------------+-----------+---------+-----+-------+---------------+-----------+-----------+-------+----+-----+------------+-------------+--------------+--------+\n",
            "| Best theme workshop| 7398289236941441420|   1|Art & Design|             None|    1000000|        0|  0.0|30650.0|              4|          1|          1|    152| 0.0| 4.75|        2014|          Sep|          None|     0.0|\n",
            "|Best Android Them...| 5762674363677973291|   1|Art & Design|             None|    1000000|        0|  0.0|15150.0|             15|          1|          1|     62| 0.0| 4.52|        2014|          Nov|          None|     0.0|\n",
            "|         NAVEENKUMAR|         NAVEENKUMAR|   1|Art & Design|             None|     500000|        0|  0.0| 3312.0|              8|          1|          1|     59| 0.0| 3.61|        2013|          Dec|          None|     0.0|\n",
            "|         360 Fractal|         360+Fractal|   1|Art & Design|             None|      50000|        0|  0.0|  915.0|             12|          1|          1|     58| 0.0|  4.5|        2014|          Oct|          None|     0.0|\n",
            "|          MUSMon.com|          MUSMon.com|   0|Art & Design|             None|       1000|        0| 2.61|   38.0|             24|          0|          0|      5| 0.0|  4.0|        2013|          Oct|          None|     0.0|\n",
            "|   Wiedmann Media AG|   Wiedmann+Media+AG|   0|Art & Design|             None|        500|        0|  9.9|    0.0|             24|          0|          0|      0| 0.0|  0.0|        2015|          Jul|          None|     0.0|\n",
            "|        Fashion Club|        Fashion+Club|   1|Art & Design|             None|      10000|        0|  0.0|    0.0|             18|          1|          1|      0| 0.0|  0.0|        2016|          Mar|          None|     0.0|\n",
            "|  Make in India Apps|  Make+in+India+Apps|   1|Art & Design|             None|       1000|        0|  0.0|    0.0|              4|          1|          1|      0| 0.0|  0.0|        2016|          Aug|          None|     0.0|\n",
            "|     ShinChven Zhang|     ShinChven+Zhang|   1|Art & Design|             None|     100000|        0|  0.0|  629.0|              4|          1|          1|     78| 0.0| 3.94|        2016|          Aug|          None|     0.0|\n",
            "|             DrawAPP|             DrawAPP|   1|Art & Design|   $0.99 per item|    1000000|        1|  0.0| 6864.0|             24|          1|          1|    360| 0.0|  3.9|        2016|          Aug|$0.99 per item|    0.99|\n",
            "|+HOME by Ateam En...|%2BHOME+by+Ateam+...|   1|Art & Design|             None|      50000|        0|  0.0|  437.0|              5|          1|          1|      9| 0.0| 4.68|        2016|          Sep|          None|     0.0|\n",
            "|+HOME by Ateam En...|%2BHOME+by+Ateam+...|   1|Art & Design|             None|      10000|        0|  0.0|  177.0|              5|          1|          1|     10| 0.0| 4.83|        2016|          Oct|          None|     0.0|\n",
            "|           Inforotor|           Inforotor|   1|Art & Design|             None|       5000|        0|  0.0|    0.0|              6|          0|          0|      0| 0.0|  0.0|        2016|          Oct|          None|     0.0|\n",
            "|           Inforotor|           Inforotor|   1|Art & Design|             None|      10000|        0|  0.0|    0.0|              6|          0|          0|      0| 0.0|  0.0|        2016|          Oct|          None|     0.0|\n",
            "|       Appy Stations| 7832284125212021063|   1|Art & Design|             None|      50000|        0|  0.0|    0.0|              9|          1|          1|      0| 0.0|  0.0|        2016|          Oct|          None|     0.0|\n",
            "|            App Wala|            App+Wala|   1|Art & Design|             None|      10000|        0|  0.0|  140.0|             24|          1|          1|      9| 0.0| 4.13|        2017|          Jan|          None|     0.0|\n",
            "|          TRENDYBOYS|          TRENDYBOYS|   1|Art & Design|             None|       5000|        0|  0.0|    0.0|              4|          1|          1|      0| 0.0|  0.0|        2017|          Jan|          None|     0.0|\n",
            "|          Quantonium| 8348135796245627107|   1|Art & Design|             None|         50|        0|  0.0|    0.0|              3|          0|          0|      0| 0.0|  0.0|        2016|          Oct|          None|     0.0|\n",
            "|      Fivex Solution|      Fivex+Solution|   1|Art & Design|             None|      10000|        0|  0.0|    0.0|              8|          1|          1|      0| 0.0|  0.0|        2017|          Jan|          None|     0.0|\n",
            "|C&C - CarrionCast...| 8334369132015437980|   1|Art & Design|             None|      10000|        0|  0.0|    0.0|             12|          1|          1|      0| 0.0|  0.0|        2017|          Jan|          None|     0.0|\n",
            "+--------------------+--------------------+----+------------+-----------------+-----------+---------+-----+-------+---------------+-----------+-----------+-------+----+-----+------------+-------------+--------------+--------+\n",
            "only showing top 20 rows\n",
            "\n"
          ]
        }
      ]
    },
    {
      "cell_type": "markdown",
      "source": [
        "## Binning required columns"
      ],
      "metadata": {
        "id": "8PpC3L3GYfhs"
      }
    },
    {
      "cell_type": "markdown",
      "source": [
        "### Binning `minInstalls` columns"
      ],
      "metadata": {
        "id": "MSsK7v2qOx56"
      }
    },
    {
      "cell_type": "code",
      "source": [
        "from pyspark.ml.feature import Bucketizer, StringIndexer\n",
        "from pyspark.sql.functions import col\n",
        "from pyspark.sql import functions as F"
      ],
      "metadata": {
        "id": "MV-e7-mbKRHI"
      },
      "execution_count": 11,
      "outputs": []
    },
    {
      "cell_type": "code",
      "source": [
        "# Binning logic for 'minInstalls' column\n",
        "num_bins = [float('-inf'), 100, 1000, 10000, 50000, 100000, 500000, 1000000, 5000000, 10000000, float('inf')]\n",
        "bin_labels = [\"[0-100]\", \"[100-1000]\", \"[1000-10000]\", \"[10000-50000]\", \"[50000-100000]\", \"[100000-500000]\", \"[500000-1000000]\", \"[1000000-5000000]\", \"[5000000-10000000]\", [\"10000000+\"]]\n",
        "\n",
        "# Convert 'minInstalls' column to numeric type\n",
        "# df = df.withColumn('minInstalls', col('minInstalls').cast('double'))\n",
        "\n",
        "# Create Bucketizer instance\n",
        "bucketizer = Bucketizer(splits=num_bins, inputCol='minInstalls', outputCol='installs_bin')\n",
        "\n",
        "# Apply the bucketizer to the DataFrame\n",
        "df = bucketizer.transform(df)\n",
        "\n",
        "# Manually add labels to the resulting DataFrame\n",
        "label_column = F.when(col(\"installs_bin\") == 0.0, \"[0-100]\") \\\n",
        "    .when(col(\"installs_bin\") == 1.0, \"[100-1000]\") \\\n",
        "    .when(col(\"installs_bin\") == 2.0, \"[1000-10000]\") \\\n",
        "    .when(col(\"installs_bin\") == 3.0, \"[10000-50000]\") \\\n",
        "    .when(col(\"installs_bin\") == 4.0, \"[50000-100000]\") \\\n",
        "    .when(col(\"installs_bin\") == 5.0, \"[100000-500000]\") \\\n",
        "    .when(col(\"installs_bin\") == 6.0, \"[500000-1000000]\") \\\n",
        "    .when(col(\"installs_bin\") == 7.0, \"[1000000-5000000]\") \\\n",
        "    .when(col(\"installs_bin\") == 8.0, \"[5000000-10000000]\") \\\n",
        "    .when(col(\"installs_bin\") == 9.0, \"[10000000+]\")\n",
        "\n",
        "df = df.withColumn(\"installs_bin\", label_column)"
      ],
      "metadata": {
        "id": "vrlY2vtgNq0S"
      },
      "execution_count": 12,
      "outputs": []
    },
    {
      "cell_type": "code",
      "source": [
        "df.show()"
      ],
      "metadata": {
        "colab": {
          "base_uri": "https://localhost:8080/"
        },
        "id": "s0Howop6M8JI",
        "outputId": "5abb0fdf-55fc-4060-e1c9-4d5251b55ed8"
      },
      "execution_count": 13,
      "outputs": [
        {
          "output_type": "stream",
          "name": "stdout",
          "text": [
            "+--------------------+--------------------+----+------------+-----------------+-----------+---------+-----+-------+---------------+-----------+-----------+-------+----+-----+------------+-------------+--------------+--------+-----------------+\n",
            "|           developer|         developerId|free|       genre|inAppProductPrice|minInstalls|offersIAP|price|ratings|len_screenshots|adSupported|containsAds|reviews|sale|score|releasedYear|releasedMonth|      minprice|maxprice|     installs_bin|\n",
            "+--------------------+--------------------+----+------------+-----------------+-----------+---------+-----+-------+---------------+-----------+-----------+-------+----+-----+------------+-------------+--------------+--------+-----------------+\n",
            "| Best theme workshop| 7398289236941441420|   1|Art & Design|             None|    1000000|        0|  0.0|30650.0|              4|          1|          1|    152| 0.0| 4.75|        2014|          Sep|          None|     0.0|[1000000-5000000]|\n",
            "|Best Android Them...| 5762674363677973291|   1|Art & Design|             None|    1000000|        0|  0.0|15150.0|             15|          1|          1|     62| 0.0| 4.52|        2014|          Nov|          None|     0.0|[1000000-5000000]|\n",
            "|         NAVEENKUMAR|         NAVEENKUMAR|   1|Art & Design|             None|     500000|        0|  0.0| 3312.0|              8|          1|          1|     59| 0.0| 3.61|        2013|          Dec|          None|     0.0| [500000-1000000]|\n",
            "|         360 Fractal|         360+Fractal|   1|Art & Design|             None|      50000|        0|  0.0|  915.0|             12|          1|          1|     58| 0.0|  4.5|        2014|          Oct|          None|     0.0|   [50000-100000]|\n",
            "|          MUSMon.com|          MUSMon.com|   0|Art & Design|             None|       1000|        0| 2.61|   38.0|             24|          0|          0|      5| 0.0|  4.0|        2013|          Oct|          None|     0.0|     [1000-10000]|\n",
            "|   Wiedmann Media AG|   Wiedmann+Media+AG|   0|Art & Design|             None|        500|        0|  9.9|    0.0|             24|          0|          0|      0| 0.0|  0.0|        2015|          Jul|          None|     0.0|       [100-1000]|\n",
            "|        Fashion Club|        Fashion+Club|   1|Art & Design|             None|      10000|        0|  0.0|    0.0|             18|          1|          1|      0| 0.0|  0.0|        2016|          Mar|          None|     0.0|    [10000-50000]|\n",
            "|  Make in India Apps|  Make+in+India+Apps|   1|Art & Design|             None|       1000|        0|  0.0|    0.0|              4|          1|          1|      0| 0.0|  0.0|        2016|          Aug|          None|     0.0|     [1000-10000]|\n",
            "|     ShinChven Zhang|     ShinChven+Zhang|   1|Art & Design|             None|     100000|        0|  0.0|  629.0|              4|          1|          1|     78| 0.0| 3.94|        2016|          Aug|          None|     0.0|  [100000-500000]|\n",
            "|             DrawAPP|             DrawAPP|   1|Art & Design|   $0.99 per item|    1000000|        1|  0.0| 6864.0|             24|          1|          1|    360| 0.0|  3.9|        2016|          Aug|$0.99 per item|    0.99|[1000000-5000000]|\n",
            "|+HOME by Ateam En...|%2BHOME+by+Ateam+...|   1|Art & Design|             None|      50000|        0|  0.0|  437.0|              5|          1|          1|      9| 0.0| 4.68|        2016|          Sep|          None|     0.0|   [50000-100000]|\n",
            "|+HOME by Ateam En...|%2BHOME+by+Ateam+...|   1|Art & Design|             None|      10000|        0|  0.0|  177.0|              5|          1|          1|     10| 0.0| 4.83|        2016|          Oct|          None|     0.0|    [10000-50000]|\n",
            "|           Inforotor|           Inforotor|   1|Art & Design|             None|       5000|        0|  0.0|    0.0|              6|          0|          0|      0| 0.0|  0.0|        2016|          Oct|          None|     0.0|     [1000-10000]|\n",
            "|           Inforotor|           Inforotor|   1|Art & Design|             None|      10000|        0|  0.0|    0.0|              6|          0|          0|      0| 0.0|  0.0|        2016|          Oct|          None|     0.0|    [10000-50000]|\n",
            "|       Appy Stations| 7832284125212021063|   1|Art & Design|             None|      50000|        0|  0.0|    0.0|              9|          1|          1|      0| 0.0|  0.0|        2016|          Oct|          None|     0.0|   [50000-100000]|\n",
            "|            App Wala|            App+Wala|   1|Art & Design|             None|      10000|        0|  0.0|  140.0|             24|          1|          1|      9| 0.0| 4.13|        2017|          Jan|          None|     0.0|    [10000-50000]|\n",
            "|          TRENDYBOYS|          TRENDYBOYS|   1|Art & Design|             None|       5000|        0|  0.0|    0.0|              4|          1|          1|      0| 0.0|  0.0|        2017|          Jan|          None|     0.0|     [1000-10000]|\n",
            "|          Quantonium| 8348135796245627107|   1|Art & Design|             None|         50|        0|  0.0|    0.0|              3|          0|          0|      0| 0.0|  0.0|        2016|          Oct|          None|     0.0|          [0-100]|\n",
            "|      Fivex Solution|      Fivex+Solution|   1|Art & Design|             None|      10000|        0|  0.0|    0.0|              8|          1|          1|      0| 0.0|  0.0|        2017|          Jan|          None|     0.0|    [10000-50000]|\n",
            "|C&C - CarrionCast...| 8334369132015437980|   1|Art & Design|             None|      10000|        0|  0.0|    0.0|             12|          1|          1|      0| 0.0|  0.0|        2017|          Jan|          None|     0.0|    [10000-50000]|\n",
            "+--------------------+--------------------+----+------------+-----------------+-----------+---------+-----+-------+---------------+-----------+-----------+-------+----+-----+------------+-------------+--------------+--------+-----------------+\n",
            "only showing top 20 rows\n",
            "\n"
          ]
        }
      ]
    },
    {
      "cell_type": "markdown",
      "source": [
        "### Binning `price` columns"
      ],
      "metadata": {
        "id": "NGFKqtAVQmzH"
      }
    },
    {
      "cell_type": "code",
      "source": [
        "# Binning logic for 'price' column\n",
        "num_bins_price = [float('-inf'), 1, 5, 10, 20, 50, 100, 200, 500, 1000, float('inf')]\n",
        "bin_labels_price = [\"[0-1]\", \"[1-5]\", \"[5-10]\", \"[10-20]\", \"[20-50]\", \"[50-100]\", \"[100-200]\", \"[200-500]\", \"[500-1000]\", \"[1000+]\"]\n",
        "\n",
        "# Convert 'price' column to numeric type\n",
        "# df = df.withColumn('price', col('price').cast('double'))\n",
        "\n",
        "# Create Bucketizer instance for 'price' column\n",
        "bucketizer_price = Bucketizer(splits=num_bins_price, inputCol='price', outputCol='price_bin')\n",
        "\n",
        "# Apply the bucketizer to the DataFrame\n",
        "df = bucketizer_price.transform(df)\n",
        "\n",
        "# Manually add labels to the resulting DataFrame for 'price' column\n",
        "label_column_price = F.when(col(\"price_bin\") == 0.0, \"[0-1]\") \\\n",
        "    .when(col(\"price_bin\") == 1.0, \"[1-5]\") \\\n",
        "    .when(col(\"price_bin\") == 2.0, \"[5-10]\") \\\n",
        "    .when(col(\"price_bin\") == 3.0, \"[10-20]\") \\\n",
        "    .when(col(\"price_bin\") == 4.0, \"[20-50]\") \\\n",
        "    .when(col(\"price_bin\") == 5.0, \"[50-100]\") \\\n",
        "    .when(col(\"price_bin\") == 6.0, \"[100-200]\") \\\n",
        "    .when(col(\"price_bin\") == 7.0, \"[200-500]\") \\\n",
        "    .when(col(\"price_bin\") == 8.0, \"[500-1000]\") \\\n",
        "    .when(col(\"price_bin\") == 9.0, \"[1000+]\")\n",
        "\n",
        "df = df.withColumn(\"price_bin\", label_column_price)"
      ],
      "metadata": {
        "id": "BNt_Tm8BQx6e"
      },
      "execution_count": 14,
      "outputs": []
    },
    {
      "cell_type": "code",
      "source": [
        "df.show()"
      ],
      "metadata": {
        "colab": {
          "base_uri": "https://localhost:8080/"
        },
        "id": "rlWJ3GO-RCnZ",
        "outputId": "b31b2dbc-4cec-426f-e735-cd18d41f447a"
      },
      "execution_count": 15,
      "outputs": [
        {
          "output_type": "stream",
          "name": "stdout",
          "text": [
            "+--------------------+--------------------+----+------------+-----------------+-----------+---------+-----+-------+---------------+-----------+-----------+-------+----+-----+------------+-------------+--------------+--------+-----------------+---------+\n",
            "|           developer|         developerId|free|       genre|inAppProductPrice|minInstalls|offersIAP|price|ratings|len_screenshots|adSupported|containsAds|reviews|sale|score|releasedYear|releasedMonth|      minprice|maxprice|     installs_bin|price_bin|\n",
            "+--------------------+--------------------+----+------------+-----------------+-----------+---------+-----+-------+---------------+-----------+-----------+-------+----+-----+------------+-------------+--------------+--------+-----------------+---------+\n",
            "| Best theme workshop| 7398289236941441420|   1|Art & Design|             None|    1000000|        0|  0.0|30650.0|              4|          1|          1|    152| 0.0| 4.75|        2014|          Sep|          None|     0.0|[1000000-5000000]|    [0-1]|\n",
            "|Best Android Them...| 5762674363677973291|   1|Art & Design|             None|    1000000|        0|  0.0|15150.0|             15|          1|          1|     62| 0.0| 4.52|        2014|          Nov|          None|     0.0|[1000000-5000000]|    [0-1]|\n",
            "|         NAVEENKUMAR|         NAVEENKUMAR|   1|Art & Design|             None|     500000|        0|  0.0| 3312.0|              8|          1|          1|     59| 0.0| 3.61|        2013|          Dec|          None|     0.0| [500000-1000000]|    [0-1]|\n",
            "|         360 Fractal|         360+Fractal|   1|Art & Design|             None|      50000|        0|  0.0|  915.0|             12|          1|          1|     58| 0.0|  4.5|        2014|          Oct|          None|     0.0|   [50000-100000]|    [0-1]|\n",
            "|          MUSMon.com|          MUSMon.com|   0|Art & Design|             None|       1000|        0| 2.61|   38.0|             24|          0|          0|      5| 0.0|  4.0|        2013|          Oct|          None|     0.0|     [1000-10000]|    [1-5]|\n",
            "|   Wiedmann Media AG|   Wiedmann+Media+AG|   0|Art & Design|             None|        500|        0|  9.9|    0.0|             24|          0|          0|      0| 0.0|  0.0|        2015|          Jul|          None|     0.0|       [100-1000]|   [5-10]|\n",
            "|        Fashion Club|        Fashion+Club|   1|Art & Design|             None|      10000|        0|  0.0|    0.0|             18|          1|          1|      0| 0.0|  0.0|        2016|          Mar|          None|     0.0|    [10000-50000]|    [0-1]|\n",
            "|  Make in India Apps|  Make+in+India+Apps|   1|Art & Design|             None|       1000|        0|  0.0|    0.0|              4|          1|          1|      0| 0.0|  0.0|        2016|          Aug|          None|     0.0|     [1000-10000]|    [0-1]|\n",
            "|     ShinChven Zhang|     ShinChven+Zhang|   1|Art & Design|             None|     100000|        0|  0.0|  629.0|              4|          1|          1|     78| 0.0| 3.94|        2016|          Aug|          None|     0.0|  [100000-500000]|    [0-1]|\n",
            "|             DrawAPP|             DrawAPP|   1|Art & Design|   $0.99 per item|    1000000|        1|  0.0| 6864.0|             24|          1|          1|    360| 0.0|  3.9|        2016|          Aug|$0.99 per item|    0.99|[1000000-5000000]|    [0-1]|\n",
            "|+HOME by Ateam En...|%2BHOME+by+Ateam+...|   1|Art & Design|             None|      50000|        0|  0.0|  437.0|              5|          1|          1|      9| 0.0| 4.68|        2016|          Sep|          None|     0.0|   [50000-100000]|    [0-1]|\n",
            "|+HOME by Ateam En...|%2BHOME+by+Ateam+...|   1|Art & Design|             None|      10000|        0|  0.0|  177.0|              5|          1|          1|     10| 0.0| 4.83|        2016|          Oct|          None|     0.0|    [10000-50000]|    [0-1]|\n",
            "|           Inforotor|           Inforotor|   1|Art & Design|             None|       5000|        0|  0.0|    0.0|              6|          0|          0|      0| 0.0|  0.0|        2016|          Oct|          None|     0.0|     [1000-10000]|    [0-1]|\n",
            "|           Inforotor|           Inforotor|   1|Art & Design|             None|      10000|        0|  0.0|    0.0|              6|          0|          0|      0| 0.0|  0.0|        2016|          Oct|          None|     0.0|    [10000-50000]|    [0-1]|\n",
            "|       Appy Stations| 7832284125212021063|   1|Art & Design|             None|      50000|        0|  0.0|    0.0|              9|          1|          1|      0| 0.0|  0.0|        2016|          Oct|          None|     0.0|   [50000-100000]|    [0-1]|\n",
            "|            App Wala|            App+Wala|   1|Art & Design|             None|      10000|        0|  0.0|  140.0|             24|          1|          1|      9| 0.0| 4.13|        2017|          Jan|          None|     0.0|    [10000-50000]|    [0-1]|\n",
            "|          TRENDYBOYS|          TRENDYBOYS|   1|Art & Design|             None|       5000|        0|  0.0|    0.0|              4|          1|          1|      0| 0.0|  0.0|        2017|          Jan|          None|     0.0|     [1000-10000]|    [0-1]|\n",
            "|          Quantonium| 8348135796245627107|   1|Art & Design|             None|         50|        0|  0.0|    0.0|              3|          0|          0|      0| 0.0|  0.0|        2016|          Oct|          None|     0.0|          [0-100]|    [0-1]|\n",
            "|      Fivex Solution|      Fivex+Solution|   1|Art & Design|             None|      10000|        0|  0.0|    0.0|              8|          1|          1|      0| 0.0|  0.0|        2017|          Jan|          None|     0.0|    [10000-50000]|    [0-1]|\n",
            "|C&C - CarrionCast...| 8334369132015437980|   1|Art & Design|             None|      10000|        0|  0.0|    0.0|             12|          1|          1|      0| 0.0|  0.0|        2017|          Jan|          None|     0.0|    [10000-50000]|    [0-1]|\n",
            "+--------------------+--------------------+----+------------+-----------------+-----------+---------+-----+-------+---------------+-----------+-----------+-------+----+-----+------------+-------------+--------------+--------+-----------------+---------+\n",
            "only showing top 20 rows\n",
            "\n"
          ]
        }
      ]
    },
    {
      "cell_type": "markdown",
      "source": [
        "### Binning `releasedYear` column"
      ],
      "metadata": {
        "id": "otUqVR_PR9Zn"
      }
    },
    {
      "cell_type": "code",
      "source": [
        "# Binning logic for 'releasedYear' column\n",
        "num_bins_released_year = [float('-inf'), 2000, 2005, 2010, 2015, 2020, float('inf')]\n",
        "bin_labels_released_year = [\"[<2000]\", \"[2000-2005]\", \"[2005-2010]\", \"[2010-2015]\", \"[2015-2020]\", \"[2020+]\"]\n",
        "\n",
        "# Convert 'releasedYear' column to numeric type\n",
        "# df = df.withColumn('releasedYear', col('releasedYear').cast('double'))\n",
        "\n",
        "# Create Bucketizer instance for 'releasedYear' column\n",
        "bucketizer_released_year = Bucketizer(splits=num_bins_released_year, inputCol='releasedYear', outputCol='released_year_bin')\n",
        "\n",
        "# Apply the bucketizer to the DataFrame\n",
        "df = bucketizer_released_year.transform(df)\n",
        "\n",
        "# Manually add labels to the resulting DataFrame for 'releasedYear' column\n",
        "label_column_released_year = F.when(col(\"released_year_bin\") == 0.0, \"[<2000]\") \\\n",
        "    .when(col(\"released_year_bin\") == 1.0, \"[2000-2005]\") \\\n",
        "    .when(col(\"released_year_bin\") == 2.0, \"[2005-2010]\") \\\n",
        "    .when(col(\"released_year_bin\") == 3.0, \"[2010-2015]\") \\\n",
        "    .when(col(\"released_year_bin\") == 4.0, \"[2015-2020]\") \\\n",
        "    .when(col(\"released_year_bin\") == 5.0, \"[2020+]\")\n",
        "\n",
        "df = df.withColumn(\"released_year_bin\", label_column_released_year)"
      ],
      "metadata": {
        "id": "qFDj8U-aSEGV"
      },
      "execution_count": 16,
      "outputs": []
    },
    {
      "cell_type": "code",
      "source": [
        "df.show()"
      ],
      "metadata": {
        "colab": {
          "base_uri": "https://localhost:8080/"
        },
        "id": "lfgk8IUxSFYb",
        "outputId": "9fec896e-10cb-4ed9-b80d-37e5bb86d0b2"
      },
      "execution_count": 17,
      "outputs": [
        {
          "output_type": "stream",
          "name": "stdout",
          "text": [
            "+--------------------+--------------------+----+------------+-----------------+-----------+---------+-----+-------+---------------+-----------+-----------+-------+----+-----+------------+-------------+--------------+--------+-----------------+---------+-----------------+\n",
            "|           developer|         developerId|free|       genre|inAppProductPrice|minInstalls|offersIAP|price|ratings|len_screenshots|adSupported|containsAds|reviews|sale|score|releasedYear|releasedMonth|      minprice|maxprice|     installs_bin|price_bin|released_year_bin|\n",
            "+--------------------+--------------------+----+------------+-----------------+-----------+---------+-----+-------+---------------+-----------+-----------+-------+----+-----+------------+-------------+--------------+--------+-----------------+---------+-----------------+\n",
            "| Best theme workshop| 7398289236941441420|   1|Art & Design|             None|    1000000|        0|  0.0|30650.0|              4|          1|          1|    152| 0.0| 4.75|        2014|          Sep|          None|     0.0|[1000000-5000000]|    [0-1]|      [2010-2015]|\n",
            "|Best Android Them...| 5762674363677973291|   1|Art & Design|             None|    1000000|        0|  0.0|15150.0|             15|          1|          1|     62| 0.0| 4.52|        2014|          Nov|          None|     0.0|[1000000-5000000]|    [0-1]|      [2010-2015]|\n",
            "|         NAVEENKUMAR|         NAVEENKUMAR|   1|Art & Design|             None|     500000|        0|  0.0| 3312.0|              8|          1|          1|     59| 0.0| 3.61|        2013|          Dec|          None|     0.0| [500000-1000000]|    [0-1]|      [2010-2015]|\n",
            "|         360 Fractal|         360+Fractal|   1|Art & Design|             None|      50000|        0|  0.0|  915.0|             12|          1|          1|     58| 0.0|  4.5|        2014|          Oct|          None|     0.0|   [50000-100000]|    [0-1]|      [2010-2015]|\n",
            "|          MUSMon.com|          MUSMon.com|   0|Art & Design|             None|       1000|        0| 2.61|   38.0|             24|          0|          0|      5| 0.0|  4.0|        2013|          Oct|          None|     0.0|     [1000-10000]|    [1-5]|      [2010-2015]|\n",
            "|   Wiedmann Media AG|   Wiedmann+Media+AG|   0|Art & Design|             None|        500|        0|  9.9|    0.0|             24|          0|          0|      0| 0.0|  0.0|        2015|          Jul|          None|     0.0|       [100-1000]|   [5-10]|      [2015-2020]|\n",
            "|        Fashion Club|        Fashion+Club|   1|Art & Design|             None|      10000|        0|  0.0|    0.0|             18|          1|          1|      0| 0.0|  0.0|        2016|          Mar|          None|     0.0|    [10000-50000]|    [0-1]|      [2015-2020]|\n",
            "|  Make in India Apps|  Make+in+India+Apps|   1|Art & Design|             None|       1000|        0|  0.0|    0.0|              4|          1|          1|      0| 0.0|  0.0|        2016|          Aug|          None|     0.0|     [1000-10000]|    [0-1]|      [2015-2020]|\n",
            "|     ShinChven Zhang|     ShinChven+Zhang|   1|Art & Design|             None|     100000|        0|  0.0|  629.0|              4|          1|          1|     78| 0.0| 3.94|        2016|          Aug|          None|     0.0|  [100000-500000]|    [0-1]|      [2015-2020]|\n",
            "|             DrawAPP|             DrawAPP|   1|Art & Design|   $0.99 per item|    1000000|        1|  0.0| 6864.0|             24|          1|          1|    360| 0.0|  3.9|        2016|          Aug|$0.99 per item|    0.99|[1000000-5000000]|    [0-1]|      [2015-2020]|\n",
            "|+HOME by Ateam En...|%2BHOME+by+Ateam+...|   1|Art & Design|             None|      50000|        0|  0.0|  437.0|              5|          1|          1|      9| 0.0| 4.68|        2016|          Sep|          None|     0.0|   [50000-100000]|    [0-1]|      [2015-2020]|\n",
            "|+HOME by Ateam En...|%2BHOME+by+Ateam+...|   1|Art & Design|             None|      10000|        0|  0.0|  177.0|              5|          1|          1|     10| 0.0| 4.83|        2016|          Oct|          None|     0.0|    [10000-50000]|    [0-1]|      [2015-2020]|\n",
            "|           Inforotor|           Inforotor|   1|Art & Design|             None|       5000|        0|  0.0|    0.0|              6|          0|          0|      0| 0.0|  0.0|        2016|          Oct|          None|     0.0|     [1000-10000]|    [0-1]|      [2015-2020]|\n",
            "|           Inforotor|           Inforotor|   1|Art & Design|             None|      10000|        0|  0.0|    0.0|              6|          0|          0|      0| 0.0|  0.0|        2016|          Oct|          None|     0.0|    [10000-50000]|    [0-1]|      [2015-2020]|\n",
            "|       Appy Stations| 7832284125212021063|   1|Art & Design|             None|      50000|        0|  0.0|    0.0|              9|          1|          1|      0| 0.0|  0.0|        2016|          Oct|          None|     0.0|   [50000-100000]|    [0-1]|      [2015-2020]|\n",
            "|            App Wala|            App+Wala|   1|Art & Design|             None|      10000|        0|  0.0|  140.0|             24|          1|          1|      9| 0.0| 4.13|        2017|          Jan|          None|     0.0|    [10000-50000]|    [0-1]|      [2015-2020]|\n",
            "|          TRENDYBOYS|          TRENDYBOYS|   1|Art & Design|             None|       5000|        0|  0.0|    0.0|              4|          1|          1|      0| 0.0|  0.0|        2017|          Jan|          None|     0.0|     [1000-10000]|    [0-1]|      [2015-2020]|\n",
            "|          Quantonium| 8348135796245627107|   1|Art & Design|             None|         50|        0|  0.0|    0.0|              3|          0|          0|      0| 0.0|  0.0|        2016|          Oct|          None|     0.0|          [0-100]|    [0-1]|      [2015-2020]|\n",
            "|      Fivex Solution|      Fivex+Solution|   1|Art & Design|             None|      10000|        0|  0.0|    0.0|              8|          1|          1|      0| 0.0|  0.0|        2017|          Jan|          None|     0.0|    [10000-50000]|    [0-1]|      [2015-2020]|\n",
            "|C&C - CarrionCast...| 8334369132015437980|   1|Art & Design|             None|      10000|        0|  0.0|    0.0|             12|          1|          1|      0| 0.0|  0.0|        2017|          Jan|          None|     0.0|    [10000-50000]|    [0-1]|      [2015-2020]|\n",
            "+--------------------+--------------------+----+------------+-----------------+-----------+---------+-----+-------+---------------+-----------+-----------+-------+----+-----+------------+-------------+--------------+--------+-----------------+---------+-----------------+\n",
            "only showing top 20 rows\n",
            "\n"
          ]
        }
      ]
    },
    {
      "cell_type": "markdown",
      "source": [
        "### Binning `score` column"
      ],
      "metadata": {
        "id": "ZYt0iXZMVb3Y"
      }
    },
    {
      "cell_type": "code",
      "source": [
        "# Binning logic for 'score' column\n",
        "num_bins_score = [float('-inf'), 1, 2, 3, 4, 5]\n",
        "bin_labels_score = [\"[0-1]\", \"[1-2]\", \"[2-3]\", \"[3-4]\", \"[4-5]\"]\n",
        "\n",
        "# Convert 'score' column to numeric type\n",
        "df = df.withColumn('reviews', col('score').cast('double'))\n",
        "\n",
        "# Create Bucketizer instance for 'score' column\n",
        "bucketizer_score = Bucketizer(splits=num_bins_score, inputCol='score', outputCol='score_bin')\n",
        "\n",
        "# Apply the bucketizer to the DataFrame\n",
        "df = bucketizer_score.transform(df)\n",
        "\n",
        "# Manually add labels to the resulting DataFrame for 'score' column\n",
        "label_column_score = F.when(col(\"score_bin\") == 0.0, \"[0-1]\") \\\n",
        "    .when(col(\"score_bin\") == 1.0, \"[1-2]\") \\\n",
        "    .when(col(\"score_bin\") == 2.0, \"[2-3]\") \\\n",
        "    .when(col(\"score_bin\") == 3.0, \"[3-4]\") \\\n",
        "    .when(col(\"score_bin\") == 4.0, \"[4-5]\")\n",
        "\n",
        "df = df.withColumn(\"score_bin\", label_column_score)"
      ],
      "metadata": {
        "id": "CcQ0YUhPVh0C"
      },
      "execution_count": 18,
      "outputs": []
    },
    {
      "cell_type": "code",
      "source": [
        "df.show()"
      ],
      "metadata": {
        "colab": {
          "base_uri": "https://localhost:8080/"
        },
        "id": "ICv1oK9sViAj",
        "outputId": "c59f1e2d-f05b-45bb-ada8-5e51a28718db"
      },
      "execution_count": 19,
      "outputs": [
        {
          "output_type": "stream",
          "name": "stdout",
          "text": [
            "+--------------------+--------------------+----+------------+-----------------+-----------+---------+-----+-------+---------------+-----------+-----------+-------+----+-----+------------+-------------+--------------+--------+-----------------+---------+-----------------+---------+\n",
            "|           developer|         developerId|free|       genre|inAppProductPrice|minInstalls|offersIAP|price|ratings|len_screenshots|adSupported|containsAds|reviews|sale|score|releasedYear|releasedMonth|      minprice|maxprice|     installs_bin|price_bin|released_year_bin|score_bin|\n",
            "+--------------------+--------------------+----+------------+-----------------+-----------+---------+-----+-------+---------------+-----------+-----------+-------+----+-----+------------+-------------+--------------+--------+-----------------+---------+-----------------+---------+\n",
            "| Best theme workshop| 7398289236941441420|   1|Art & Design|             None|    1000000|        0|  0.0|30650.0|              4|          1|          1|   4.75| 0.0| 4.75|        2014|          Sep|          None|     0.0|[1000000-5000000]|    [0-1]|      [2010-2015]|    [4-5]|\n",
            "|Best Android Them...| 5762674363677973291|   1|Art & Design|             None|    1000000|        0|  0.0|15150.0|             15|          1|          1|   4.52| 0.0| 4.52|        2014|          Nov|          None|     0.0|[1000000-5000000]|    [0-1]|      [2010-2015]|    [4-5]|\n",
            "|         NAVEENKUMAR|         NAVEENKUMAR|   1|Art & Design|             None|     500000|        0|  0.0| 3312.0|              8|          1|          1|   3.61| 0.0| 3.61|        2013|          Dec|          None|     0.0| [500000-1000000]|    [0-1]|      [2010-2015]|    [3-4]|\n",
            "|         360 Fractal|         360+Fractal|   1|Art & Design|             None|      50000|        0|  0.0|  915.0|             12|          1|          1|    4.5| 0.0|  4.5|        2014|          Oct|          None|     0.0|   [50000-100000]|    [0-1]|      [2010-2015]|    [4-5]|\n",
            "|          MUSMon.com|          MUSMon.com|   0|Art & Design|             None|       1000|        0| 2.61|   38.0|             24|          0|          0|    4.0| 0.0|  4.0|        2013|          Oct|          None|     0.0|     [1000-10000]|    [1-5]|      [2010-2015]|    [4-5]|\n",
            "|   Wiedmann Media AG|   Wiedmann+Media+AG|   0|Art & Design|             None|        500|        0|  9.9|    0.0|             24|          0|          0|    0.0| 0.0|  0.0|        2015|          Jul|          None|     0.0|       [100-1000]|   [5-10]|      [2015-2020]|    [0-1]|\n",
            "|        Fashion Club|        Fashion+Club|   1|Art & Design|             None|      10000|        0|  0.0|    0.0|             18|          1|          1|    0.0| 0.0|  0.0|        2016|          Mar|          None|     0.0|    [10000-50000]|    [0-1]|      [2015-2020]|    [0-1]|\n",
            "|  Make in India Apps|  Make+in+India+Apps|   1|Art & Design|             None|       1000|        0|  0.0|    0.0|              4|          1|          1|    0.0| 0.0|  0.0|        2016|          Aug|          None|     0.0|     [1000-10000]|    [0-1]|      [2015-2020]|    [0-1]|\n",
            "|     ShinChven Zhang|     ShinChven+Zhang|   1|Art & Design|             None|     100000|        0|  0.0|  629.0|              4|          1|          1|   3.94| 0.0| 3.94|        2016|          Aug|          None|     0.0|  [100000-500000]|    [0-1]|      [2015-2020]|    [3-4]|\n",
            "|             DrawAPP|             DrawAPP|   1|Art & Design|   $0.99 per item|    1000000|        1|  0.0| 6864.0|             24|          1|          1|    3.9| 0.0|  3.9|        2016|          Aug|$0.99 per item|    0.99|[1000000-5000000]|    [0-1]|      [2015-2020]|    [3-4]|\n",
            "|+HOME by Ateam En...|%2BHOME+by+Ateam+...|   1|Art & Design|             None|      50000|        0|  0.0|  437.0|              5|          1|          1|   4.68| 0.0| 4.68|        2016|          Sep|          None|     0.0|   [50000-100000]|    [0-1]|      [2015-2020]|    [4-5]|\n",
            "|+HOME by Ateam En...|%2BHOME+by+Ateam+...|   1|Art & Design|             None|      10000|        0|  0.0|  177.0|              5|          1|          1|   4.83| 0.0| 4.83|        2016|          Oct|          None|     0.0|    [10000-50000]|    [0-1]|      [2015-2020]|    [4-5]|\n",
            "|           Inforotor|           Inforotor|   1|Art & Design|             None|       5000|        0|  0.0|    0.0|              6|          0|          0|    0.0| 0.0|  0.0|        2016|          Oct|          None|     0.0|     [1000-10000]|    [0-1]|      [2015-2020]|    [0-1]|\n",
            "|           Inforotor|           Inforotor|   1|Art & Design|             None|      10000|        0|  0.0|    0.0|              6|          0|          0|    0.0| 0.0|  0.0|        2016|          Oct|          None|     0.0|    [10000-50000]|    [0-1]|      [2015-2020]|    [0-1]|\n",
            "|       Appy Stations| 7832284125212021063|   1|Art & Design|             None|      50000|        0|  0.0|    0.0|              9|          1|          1|    0.0| 0.0|  0.0|        2016|          Oct|          None|     0.0|   [50000-100000]|    [0-1]|      [2015-2020]|    [0-1]|\n",
            "|            App Wala|            App+Wala|   1|Art & Design|             None|      10000|        0|  0.0|  140.0|             24|          1|          1|   4.13| 0.0| 4.13|        2017|          Jan|          None|     0.0|    [10000-50000]|    [0-1]|      [2015-2020]|    [4-5]|\n",
            "|          TRENDYBOYS|          TRENDYBOYS|   1|Art & Design|             None|       5000|        0|  0.0|    0.0|              4|          1|          1|    0.0| 0.0|  0.0|        2017|          Jan|          None|     0.0|     [1000-10000]|    [0-1]|      [2015-2020]|    [0-1]|\n",
            "|          Quantonium| 8348135796245627107|   1|Art & Design|             None|         50|        0|  0.0|    0.0|              3|          0|          0|    0.0| 0.0|  0.0|        2016|          Oct|          None|     0.0|          [0-100]|    [0-1]|      [2015-2020]|    [0-1]|\n",
            "|      Fivex Solution|      Fivex+Solution|   1|Art & Design|             None|      10000|        0|  0.0|    0.0|              8|          1|          1|    0.0| 0.0|  0.0|        2017|          Jan|          None|     0.0|    [10000-50000]|    [0-1]|      [2015-2020]|    [0-1]|\n",
            "|C&C - CarrionCast...| 8334369132015437980|   1|Art & Design|             None|      10000|        0|  0.0|    0.0|             12|          1|          1|    0.0| 0.0|  0.0|        2017|          Jan|          None|     0.0|    [10000-50000]|    [0-1]|      [2015-2020]|    [0-1]|\n",
            "+--------------------+--------------------+----+------------+-----------------+-----------+---------+-----+-------+---------------+-----------+-----------+-------+----+-----+------------+-------------+--------------+--------+-----------------+---------+-----------------+---------+\n",
            "only showing top 20 rows\n",
            "\n"
          ]
        }
      ]
    },
    {
      "cell_type": "markdown",
      "source": [
        "# Results\n"
      ],
      "metadata": {
        "id": "tm4BAu-KY2iR"
      }
    },
    {
      "cell_type": "markdown",
      "source": [
        "## Combination of price, released_year and installs\n",
        "\n",
        "Dataframe `df` contains all the necesary data needed for a comprehensive analysis"
      ],
      "metadata": {
        "id": "B8s_iCtBYt98"
      }
    },
    {
      "cell_type": "code",
      "source": [
        "# Select relevant columns\n",
        "selected_df = df.select('price_bin', 'released_year_bin', 'installs_bin').groupBy(['price_bin', 'released_year_bin', 'installs_bin']).count()\n",
        "\n",
        "# Group by the selected columns and get counts\n",
        "result_df = selected_df.groupBy('price_bin', 'released_year_bin', 'installs_bin').sum('count').withColumnRenamed('sum(count)', 'count')\n",
        "\n",
        "# Calculate total volume\n",
        "total_volume = df.count()\n",
        "\n",
        "# Filter out combinations smaller than 2% of the total volume\n",
        "result_df = result_df.filter((col('count') / total_volume) >= 0.02)\n",
        "\n",
        "# Format the output as specified\n",
        "result_df = result_df.withColumn(\n",
        "    \"output\",\n",
        "    F.concat(\n",
        "        F.lit(\"Price=\"), col(\"price_bin\"), F.lit(\"; \"),\n",
        "        F.lit(\"Year=\"), col(\"released_year_bin\"), F.lit(\"; \"),\n",
        "        F.lit(\"Installs=\"), col(\"installs_bin\"), F.lit(\"; \"),\n",
        "        col(\"count\")\n",
        "    )\n",
        ")\n",
        "\n",
        "# Select the final output columns\n",
        "final_output_df = result_df.select(\"output\")\n",
        "\n",
        "# Write the results to a CSV file\n",
        "output_file_path = \"output/comprehensive_counts.csv\"\n",
        "final_output_df.write.option(\"header\", \"true\").mode(\"overwrite\").csv(output_file_path)"
      ],
      "metadata": {
        "id": "_nww6buXhwtf"
      },
      "execution_count": 20,
      "outputs": []
    },
    {
      "cell_type": "markdown",
      "source": [
        "## Combination of released_year"
      ],
      "metadata": {
        "id": "hWc7lRjXaWFr"
      }
    },
    {
      "cell_type": "code",
      "source": [
        "# Select relevant columns\n",
        "selected_df = df.select('released_year_bin').groupBy(['released_year_bin']).count()\n",
        "\n",
        "# Group by the selected columns and get counts\n",
        "result_df = selected_df.groupBy('released_year_bin').sum('count').withColumnRenamed('sum(count)', 'count')\n",
        "\n",
        "# Calculate total volume\n",
        "total_volume = df.count()\n",
        "\n",
        "# Filter out combinations smaller than 2% of the total volume\n",
        "result_df = result_df.filter((col('count') / total_volume) >= 0.02)\n",
        "\n",
        "# Format the output as specified\n",
        "result_df = result_df.withColumn(\n",
        "    \"output\",\n",
        "    F.concat(\n",
        "        F.lit(\"Year=\"), col(\"released_year_bin\"), F.lit(\"; \"),\n",
        "        col(\"count\")\n",
        "    )\n",
        ")\n",
        "\n",
        "# Select the final output columns\n",
        "final_output_df = result_df.select(\"output\")\n",
        "\n",
        "# Write the results to a CSV file\n",
        "output_file_path = \"output/comprehensive_released_year_counts.csv\"\n",
        "final_output_df.write.option(\"header\", \"true\").mode(\"overwrite\").csv(output_file_path)"
      ],
      "metadata": {
        "id": "TnwscSz_snvl"
      },
      "execution_count": 22,
      "outputs": []
    }
  ]
}